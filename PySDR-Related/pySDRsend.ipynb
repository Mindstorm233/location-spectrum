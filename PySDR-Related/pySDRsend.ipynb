{
 "cells": [
  {
   "cell_type": "markdown",
   "metadata": {},
   "source": [
    "# PySDR初探\n",
    "\n",
    "## 测试连接"
   ]
  },
  {
   "cell_type": "code",
   "execution_count": 1,
   "metadata": {},
   "outputs": [
    {
     "data": {
      "text/plain": [
       "array([-42.+32.j,  11. -1.j, -25. +0.j, ..., -26.-20.j,  11.+10.j,\n",
       "         3. -7.j])"
      ]
     },
     "execution_count": 1,
     "metadata": {},
     "output_type": "execute_result"
    }
   ],
   "source": [
    "import adi\n",
    "sdr = adi.Pluto('ip:192.168.2.1') # or whatever your Pluto's IP is\n",
    "sdr.sample_rate = int(2.5e6)\n",
    "sdr.rx()"
   ]
  },
  {
   "cell_type": "markdown",
   "metadata": {},
   "source": [
    "## 测试接收信号"
   ]
  },
  {
   "cell_type": "code",
   "execution_count": 2,
   "metadata": {},
   "outputs": [
    {
     "name": "stdout",
     "output_type": "stream",
     "text": [
      "采集到的数据： [  46. -40.j  -19. -12.j   21. -15.j ... -119.  -2.j  -38.+133.j\n",
      "   79. +87.j]\n"
     ]
    }
   ],
   "source": [
    "import adi\n",
    "import numpy as np\n",
    "\n",
    "# 创建PlutoSDR对象\n",
    "sdr = adi.Pluto('ip:192.168.2.1')\n",
    "\n",
    "# 设置采样率和中心频率\n",
    "sdr.sample_rate = 1000000  # 1 MSPS\n",
    "sdr.rx_lo = 1000000000     # 1 GHz\n",
    "\n",
    "# 设置接收通道\n",
    "sdr.rx_rf_bandwidth = 2000000  # 2 MHz\n",
    "\n",
    "# 开始采集数据\n",
    "num_samples = 1024\n",
    "data = sdr.rx()\n",
    "print(\"采集到的数据：\", data)\n",
    "\n",
    "# 将数据保存到文件\n",
    "np.save(\"pluto_data.npy\", data)\n"
   ]
  },
  {
   "cell_type": "markdown",
   "metadata": {},
   "source": [
    "## 采集信号"
   ]
  },
  {
   "cell_type": "code",
   "execution_count": 5,
   "metadata": {},
   "outputs": [
    {
     "name": "stdout",
     "output_type": "stream",
     "text": [
      "[49.-18.j 61.-17.j 64.-28.j 45. -8.j 48. -4.j 46.-10.j 39.-12.j 49.-17.j\n",
      " 69. -7.j 49.-25.j]\n"
     ]
    }
   ],
   "source": [
    "import numpy as np\n",
    "import adi\n",
    "\n",
    "sample_rate = 1e6 # Hz\n",
    "center_freq = 100e6 # Hz\n",
    "num_samps = 10000 # number of samples returned per call to rx()\n",
    "\n",
    "sdr = adi.Pluto('ip:192.168.2.1')\n",
    "sdr.gain_control_mode_chan0 = 'manual'\n",
    "sdr.rx_hardwaregain_chan0 = 70.0 # dB\n",
    "sdr.rx_lo = int(center_freq)\n",
    "sdr.sample_rate = int(sample_rate)\n",
    "sdr.rx_rf_bandwidth = int(sample_rate) # filter width, just set it to the same as sample rate for now\n",
    "sdr.rx_buffer_size = num_samps\n",
    "\n",
    "samples = sdr.rx() # receive samples off Pluto\n",
    "print(samples[0:10])"
   ]
  },
  {
   "cell_type": "markdown",
   "metadata": {},
   "source": [
    "## 显示频谱"
   ]
  },
  {
   "cell_type": "code",
   "execution_count": 7,
   "metadata": {},
   "outputs": [
    {
     "data": {
      "image/png": "[encoded data removed]",
      "text/plain": [
       "<Figure size 640x480 with 1 Axes>"
      ]
     },
     "metadata": {},
     "output_type": "display_data"
    }
   ],
   "source": [
    "import adi\n",
    "import numpy as np\n",
    "import matplotlib.pyplot as plt\n",
    "from matplotlib.animation import FuncAnimation\n",
    "\n",
    "def plot_realtime_spectrum(pluto, center_freq, span, num_points):\n",
    "    # 设置PlutoSDR参数\n",
    "    pluto.rx_lo = int(center_freq)\n",
    "    pluto.rx_rf_bandwidth = int(span)\n",
    "    pluto.sample_rate = int(span) * 2  # 采样率为RF带宽的两倍\n",
    "\n",
    "    # 创建图形\n",
    "    fig, ax = plt.subplots()\n",
    "    x = np.linspace(center_freq - span/2, center_freq + span/2, num_points)\n",
    "    line, = ax.plot(x, np.zeros_like(x))\n",
    "\n",
    "    # 更新函数\n",
    "    def update(frame):\n",
    "        data = pluto.rx()\n",
    "        fft_data = np.fft.fft(data)\n",
    "        fft_mag = np.abs(fft_data)\n",
    "        fft_mag_db = 10 * np.log10(fft_mag)\n",
    "        line.set_ydata(fft_mag_db)\n",
    "        return line,\n",
    "\n",
    "    # 开始动画\n",
    "    ani = FuncAnimation(fig, update, frames=range(100), blit=True)\n",
    "    plt.xlabel('Frequency (Hz)')\n",
    "    plt.ylabel('Magnitude (dB)')\n",
    "    plt.title('Real-time Spectrum')\n",
    "    plt.show()\n",
    "\n",
    "# 创建PlutoSDR对象\n",
    "pluto = adi.Pluto('ip:192.168.2.1')\n",
    "\n",
    "# 指定频率范围和参数\n",
    "center_freq = 100e6  # 中心频率 100 MHz\n",
    "span = 10e6  # 频率范围 10 MHz\n",
    "num_points = 1024  # FFT点数\n",
    "\n",
    "# 实时显示频谱图\n",
    "plot_realtime_spectrum(pluto, center_freq, span, num_points)\n"
   ]
  }
 ],
 "metadata": {
  "kernelspec": {
   "display_name": "pySDR",
   "language": "python",
   "name": "python3"
  },
  "language_info": {
   "codemirror_mode": {
    "name": "ipython",
    "version": 3
   },
   "file_extension": ".py",
   "mimetype": "text/x-python",
   "name": "python",
   "nbconvert_exporter": "python",
   "pygments_lexer": "ipython3",
   "version": "3.10.14"
  }
 },
 "nbformat": 4,
 "nbformat_minor": 2
}
